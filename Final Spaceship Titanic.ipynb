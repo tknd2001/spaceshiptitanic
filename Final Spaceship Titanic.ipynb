{
 "cells": [
  {
   "cell_type": "code",
   "execution_count": 1,
   "id": "f7bbb8fe",
   "metadata": {},
   "outputs": [
    {
     "data": {
      "text/plain": [
       "PassengerId     False\n",
       "HomePlanet       True\n",
       "CryoSleep        True\n",
       "Cabin            True\n",
       "Destination      True\n",
       "Age              True\n",
       "VIP              True\n",
       "RoomService      True\n",
       "FoodCourt        True\n",
       "ShoppingMall     True\n",
       "Spa              True\n",
       "VRDeck           True\n",
       "Name             True\n",
       "Transported     False\n",
       "dtype: bool"
      ]
     },
     "execution_count": 1,
     "metadata": {},
     "output_type": "execute_result"
    }
   ],
   "source": [
    "import numpy as np\n",
    "import pandas as pd\n",
    "import matplotlib.pyplot as plt\n",
    "test = pd.read_csv(\"test.csv\")\n",
    "train = pd.read_csv(\"train.csv\")\n",
    "#first, let's check for if there's any missing data\n",
    "train.isna().any()"
   ]
  },
  {
   "cell_type": "code",
   "execution_count": 2,
   "id": "81806f82",
   "metadata": {},
   "outputs": [
    {
     "data": {
      "text/html": [
       "<div>\n",
       "<style scoped>\n",
       "    .dataframe tbody tr th:only-of-type {\n",
       "        vertical-align: middle;\n",
       "    }\n",
       "\n",
       "    .dataframe tbody tr th {\n",
       "        vertical-align: top;\n",
       "    }\n",
       "\n",
       "    .dataframe thead th {\n",
       "        text-align: right;\n",
       "    }\n",
       "</style>\n",
       "<table border=\"1\" class=\"dataframe\">\n",
       "  <thead>\n",
       "    <tr style=\"text-align: right;\">\n",
       "      <th></th>\n",
       "      <th>PassengerId</th>\n",
       "      <th>HomePlanet</th>\n",
       "      <th>CryoSleep</th>\n",
       "      <th>Cabin</th>\n",
       "      <th>Destination</th>\n",
       "      <th>Age</th>\n",
       "      <th>VIP</th>\n",
       "      <th>RoomService</th>\n",
       "      <th>FoodCourt</th>\n",
       "      <th>ShoppingMall</th>\n",
       "      <th>Spa</th>\n",
       "      <th>VRDeck</th>\n",
       "      <th>Name</th>\n",
       "      <th>Transported</th>\n",
       "    </tr>\n",
       "  </thead>\n",
       "  <tbody>\n",
       "    <tr>\n",
       "      <th>0</th>\n",
       "      <td>0001_01</td>\n",
       "      <td>Europa</td>\n",
       "      <td>False</td>\n",
       "      <td>B/0/P</td>\n",
       "      <td>TRAPPIST-1e</td>\n",
       "      <td>39.0</td>\n",
       "      <td>False</td>\n",
       "      <td>0.0</td>\n",
       "      <td>0.0</td>\n",
       "      <td>0.0</td>\n",
       "      <td>0.0</td>\n",
       "      <td>0.0</td>\n",
       "      <td>Maham Ofracculy</td>\n",
       "      <td>False</td>\n",
       "    </tr>\n",
       "    <tr>\n",
       "      <th>1</th>\n",
       "      <td>0002_01</td>\n",
       "      <td>Earth</td>\n",
       "      <td>False</td>\n",
       "      <td>F/0/S</td>\n",
       "      <td>TRAPPIST-1e</td>\n",
       "      <td>24.0</td>\n",
       "      <td>False</td>\n",
       "      <td>109.0</td>\n",
       "      <td>9.0</td>\n",
       "      <td>25.0</td>\n",
       "      <td>549.0</td>\n",
       "      <td>44.0</td>\n",
       "      <td>Juanna Vines</td>\n",
       "      <td>True</td>\n",
       "    </tr>\n",
       "    <tr>\n",
       "      <th>2</th>\n",
       "      <td>0003_01</td>\n",
       "      <td>Europa</td>\n",
       "      <td>False</td>\n",
       "      <td>A/0/S</td>\n",
       "      <td>TRAPPIST-1e</td>\n",
       "      <td>58.0</td>\n",
       "      <td>True</td>\n",
       "      <td>43.0</td>\n",
       "      <td>3576.0</td>\n",
       "      <td>0.0</td>\n",
       "      <td>6715.0</td>\n",
       "      <td>49.0</td>\n",
       "      <td>Altark Susent</td>\n",
       "      <td>False</td>\n",
       "    </tr>\n",
       "    <tr>\n",
       "      <th>3</th>\n",
       "      <td>0003_02</td>\n",
       "      <td>Europa</td>\n",
       "      <td>False</td>\n",
       "      <td>A/0/S</td>\n",
       "      <td>TRAPPIST-1e</td>\n",
       "      <td>33.0</td>\n",
       "      <td>False</td>\n",
       "      <td>0.0</td>\n",
       "      <td>1283.0</td>\n",
       "      <td>371.0</td>\n",
       "      <td>3329.0</td>\n",
       "      <td>193.0</td>\n",
       "      <td>Solam Susent</td>\n",
       "      <td>False</td>\n",
       "    </tr>\n",
       "    <tr>\n",
       "      <th>4</th>\n",
       "      <td>0004_01</td>\n",
       "      <td>Earth</td>\n",
       "      <td>False</td>\n",
       "      <td>F/1/S</td>\n",
       "      <td>TRAPPIST-1e</td>\n",
       "      <td>16.0</td>\n",
       "      <td>False</td>\n",
       "      <td>303.0</td>\n",
       "      <td>70.0</td>\n",
       "      <td>151.0</td>\n",
       "      <td>565.0</td>\n",
       "      <td>2.0</td>\n",
       "      <td>Willy Santantines</td>\n",
       "      <td>True</td>\n",
       "    </tr>\n",
       "  </tbody>\n",
       "</table>\n",
       "</div>"
      ],
      "text/plain": [
       "  PassengerId HomePlanet CryoSleep  Cabin  Destination   Age    VIP  \\\n",
       "0     0001_01     Europa     False  B/0/P  TRAPPIST-1e  39.0  False   \n",
       "1     0002_01      Earth     False  F/0/S  TRAPPIST-1e  24.0  False   \n",
       "2     0003_01     Europa     False  A/0/S  TRAPPIST-1e  58.0   True   \n",
       "3     0003_02     Europa     False  A/0/S  TRAPPIST-1e  33.0  False   \n",
       "4     0004_01      Earth     False  F/1/S  TRAPPIST-1e  16.0  False   \n",
       "\n",
       "   RoomService  FoodCourt  ShoppingMall     Spa  VRDeck               Name  \\\n",
       "0          0.0        0.0           0.0     0.0     0.0    Maham Ofracculy   \n",
       "1        109.0        9.0          25.0   549.0    44.0       Juanna Vines   \n",
       "2         43.0     3576.0           0.0  6715.0    49.0      Altark Susent   \n",
       "3          0.0     1283.0         371.0  3329.0   193.0       Solam Susent   \n",
       "4        303.0       70.0         151.0   565.0     2.0  Willy Santantines   \n",
       "\n",
       "   Transported  \n",
       "0        False  \n",
       "1         True  \n",
       "2        False  \n",
       "3        False  \n",
       "4         True  "
      ]
     },
     "execution_count": 2,
     "metadata": {},
     "output_type": "execute_result"
    }
   ],
   "source": [
    "#every column seems to be missing data except PassengerId and Transported\n",
    "#let's make copies of test and train so we don't accidentally alter the original data during our cleaning process\n",
    "train_copy = train.copy()\n",
    "test_copy = test.copy()\n",
    "train.head()"
   ]
  },
  {
   "cell_type": "code",
   "execution_count": 3,
   "id": "abd57c82",
   "metadata": {},
   "outputs": [
    {
     "data": {
      "text/plain": [
       "PassengerId     False\n",
       "HomePlanet       True\n",
       "CryoSleep        True\n",
       "Cabin            True\n",
       "Destination      True\n",
       "Age              True\n",
       "VIP              True\n",
       "RoomService     False\n",
       "FoodCourt       False\n",
       "ShoppingMall    False\n",
       "Spa             False\n",
       "VRDeck          False\n",
       "Transported     False\n",
       "dtype: bool"
      ]
     },
     "execution_count": 3,
     "metadata": {},
     "output_type": "execute_result"
    }
   ],
   "source": [
    "#now that we've made copies to edit, let's start the cleaning process by finding common patterns first\n",
    "#First, both children(under 13) and cryosleep have no bill. The exception to this is Maham, the first entry\n",
    "#Let us remove the name column, as it is not really relevant \n",
    "train_copy.drop('Name',axis=1,inplace=True)\n",
    "#now, we use cryosleep to deal with any missing costs\n",
    "train_copy.RoomService = train_copy.RoomService.fillna(train_copy.RoomService.mean())\n",
    "train_copy.loc[train_copy.CryoSleep == True, 'RoomService'] = 0\n",
    "\n",
    "train_copy.FoodCourt = train_copy.FoodCourt.fillna(train_copy.FoodCourt.mean())\n",
    "train_copy.loc[train_copy.CryoSleep == True, 'FoodCourt'] = 0\n",
    "\n",
    "train_copy.ShoppingMall = train_copy.ShoppingMall.fillna(train_copy.ShoppingMall.mean())\n",
    "train_copy.loc[train_copy.CryoSleep == True, 'ShoppingMall'] = 0\n",
    "\n",
    "train_copy.Spa = train_copy.Spa.fillna(train_copy.Spa.mean())\n",
    "train_copy.loc[train_copy.CryoSleep == True, 'Spa'] = 0\n",
    "\n",
    "train_copy.VRDeck = train_copy.VRDeck.fillna(train_copy.VRDeck.mean())\n",
    "train_copy.loc[train_copy.CryoSleep == True, 'VRDeck'] = 0\n",
    "\n",
    "train_copy.isna().any()"
   ]
  },
  {
   "cell_type": "code",
   "execution_count": 4,
   "id": "b67f59e3",
   "metadata": {},
   "outputs": [
    {
     "data": {
      "text/plain": [
       "PassengerId     False\n",
       "HomePlanet       True\n",
       "CryoSleep       False\n",
       "Cabin            True\n",
       "Destination      True\n",
       "Age              True\n",
       "VIP              True\n",
       "RoomService     False\n",
       "FoodCourt       False\n",
       "ShoppingMall    False\n",
       "Spa             False\n",
       "VRDeck          False\n",
       "Transported     False\n",
       "tempexpenses    False\n",
       "dtype: bool"
      ]
     },
     "execution_count": 4,
     "metadata": {},
     "output_type": "execute_result"
    }
   ],
   "source": [
    "#Now, we shall deal with cryosleep missing values, to do so, we shall make a temp column and a sum of expenses\n",
    "train_copy['tempcryo'] = 0\n",
    "train_copy['tempexpenses'] = train_copy[['RoomService', 'FoodCourt',\n",
    "                                           'ShoppingMall', 'Spa', 'VRDeck']].sum(axis=1)\n",
    "#if expenses is 0 that means they are probably in cryosleep\n",
    "train_copy.loc[train_copy['tempexpenses'] == 0, 'tempcryo'] = 1\n",
    "#now we add all cases where they were in cryosleep from the original column and when they were not\n",
    "train_copy.loc[train_copy.CryoSleep.astype('str') == 'True', 'tempcryo'] = 1\n",
    "train_copy.loc[train_copy.CryoSleep.astype('str') == 'False', 'tempcryo'] = 0\n",
    "#we will convert this to boolean for easier use and replace the original cryosleep table\n",
    "train_copy['CryoSleep'] = train_copy['tempcryo']\n",
    "train_copy.drop('tempcryo',axis=1,inplace=True)\n",
    "train_copy['CryoSleep'] = train_copy['CryoSleep'].astype('bool')\n",
    "train_copy.isna().any()"
   ]
  },
  {
   "cell_type": "code",
   "execution_count": 5,
   "id": "fb982ccb",
   "metadata": {},
   "outputs": [
    {
     "data": {
      "text/plain": [
       "PassengerId     False\n",
       "HomePlanet       True\n",
       "CryoSleep       False\n",
       "Cabin            True\n",
       "Destination      True\n",
       "Age             False\n",
       "VIP              True\n",
       "RoomService     False\n",
       "FoodCourt       False\n",
       "ShoppingMall    False\n",
       "Spa             False\n",
       "VRDeck          False\n",
       "Transported     False\n",
       "tempexpenses    False\n",
       "dtype: bool"
      ]
     },
     "execution_count": 5,
     "metadata": {},
     "output_type": "execute_result"
    }
   ],
   "source": [
    "#now we shall deal with age, since we realistically can't guess ages, we shall just use median instead for null values\n",
    "train_copy.Age = train_copy.Age.fillna(train_copy.Age.median())\n",
    "train_copy.isna().any()"
   ]
  },
  {
   "cell_type": "code",
   "execution_count": 6,
   "id": "0d154d8c",
   "metadata": {},
   "outputs": [
    {
     "data": {
      "text/plain": [
       "PassengerId     False\n",
       "HomePlanet       True\n",
       "CryoSleep       False\n",
       "Cabin           False\n",
       "Destination      True\n",
       "Age             False\n",
       "VIP              True\n",
       "RoomService     False\n",
       "FoodCourt       False\n",
       "ShoppingMall    False\n",
       "Spa             False\n",
       "VRDeck          False\n",
       "Transported     False\n",
       "tempexpenses    False\n",
       "dtype: bool"
      ]
     },
     "execution_count": 6,
     "metadata": {},
     "output_type": "execute_result"
    }
   ],
   "source": [
    "#To deal with cabin, we shall use the next value to fill any missing values\n",
    "train_copy['Cabin'] = train_copy.Cabin.fillna(method='backfill')\n",
    "train_copy.isna().any()"
   ]
  },
  {
   "cell_type": "code",
   "execution_count": 7,
   "id": "37730a86",
   "metadata": {},
   "outputs": [
    {
     "data": {
      "text/plain": [
       "0    Earth\n",
       "Name: HomePlanet, dtype: object"
      ]
     },
     "execution_count": 7,
     "metadata": {},
     "output_type": "execute_result"
    }
   ],
   "source": [
    "#Then, we deal with the remaining(Homeplanet and Destination) we shall fill in via mode due to simplicity\n",
    "train_copy.HomePlanet.mode()"
   ]
  },
  {
   "cell_type": "code",
   "execution_count": 8,
   "id": "2fbffb47",
   "metadata": {},
   "outputs": [
    {
     "data": {
      "text/plain": [
       "0    TRAPPIST-1e\n",
       "Name: Destination, dtype: object"
      ]
     },
     "execution_count": 8,
     "metadata": {},
     "output_type": "execute_result"
    }
   ],
   "source": [
    "train_copy.Destination.mode()"
   ]
  },
  {
   "cell_type": "code",
   "execution_count": 9,
   "id": "2bda7581",
   "metadata": {},
   "outputs": [
    {
     "data": {
      "text/plain": [
       "PassengerId     False\n",
       "HomePlanet      False\n",
       "CryoSleep       False\n",
       "Cabin           False\n",
       "Destination     False\n",
       "Age             False\n",
       "VIP              True\n",
       "RoomService     False\n",
       "FoodCourt       False\n",
       "ShoppingMall    False\n",
       "Spa             False\n",
       "VRDeck          False\n",
       "Transported     False\n",
       "tempexpenses    False\n",
       "dtype: bool"
      ]
     },
     "execution_count": 9,
     "metadata": {},
     "output_type": "execute_result"
    }
   ],
   "source": [
    "train_copy.HomePlanet = train_copy.HomePlanet.fillna('Earth')\n",
    "train_copy.Destination = train_copy.Destination.fillna('TRAPPIST-1e')\n",
    "train_copy.isna().any()"
   ]
  },
  {
   "cell_type": "code",
   "execution_count": 10,
   "id": "927a9b97",
   "metadata": {},
   "outputs": [
    {
     "data": {
      "text/plain": [
       "PassengerId     False\n",
       "HomePlanet      False\n",
       "CryoSleep       False\n",
       "Cabin           False\n",
       "Destination     False\n",
       "Age             False\n",
       "VIP             False\n",
       "RoomService     False\n",
       "FoodCourt       False\n",
       "ShoppingMall    False\n",
       "Spa             False\n",
       "VRDeck          False\n",
       "Transported     False\n",
       "tempexpenses    False\n",
       "dtype: bool"
      ]
     },
     "execution_count": 10,
     "metadata": {},
     "output_type": "execute_result"
    }
   ],
   "source": [
    "#Finally, we deal with VIP. Any value missing shall be considered false to smoothen the process.\n",
    "train_copy.VIP = train_copy.VIP.fillna('False')\n",
    "train_copy.VIP = train_copy.VIP.astype('bool')\n",
    "train_copy.isna().any()"
   ]
  },
  {
   "cell_type": "code",
   "execution_count": 11,
   "id": "72bf9a9a",
   "metadata": {},
   "outputs": [],
   "source": [
    "#Now that we have removed all missing values from train, we shall repeat the exact same process on test\n",
    "test_copy.drop('Name',axis=1,inplace=True)\n",
    "test_copy.RoomService = test_copy.RoomService.fillna(test_copy.RoomService.mean())\n",
    "test_copy.loc[test_copy.CryoSleep == True, 'RoomService'] = 0\n",
    "test_copy.FoodCourt = test_copy.FoodCourt.fillna(train_copy.FoodCourt.mean())\n",
    "test_copy.loc[test_copy.CryoSleep == True, 'FoodCourt'] = 0\n",
    "test_copy.ShoppingMall = test_copy.ShoppingMall.fillna(test_copy.ShoppingMall.mean())\n",
    "test_copy.loc[test_copy.CryoSleep == True, 'ShoppingMall'] = 0\n",
    "test_copy.Spa = test_copy.Spa.fillna(test_copy.Spa.mean())\n",
    "test_copy.loc[test_copy.CryoSleep == True, 'Spa'] = 0\n",
    "test_copy.VRDeck = test_copy.VRDeck.fillna(test_copy.VRDeck.mean())\n",
    "test_copy.loc[test_copy.CryoSleep == True, 'VRDeck'] = 0\n",
    "test_copy['tempcryo'] = 0\n",
    "test_copy['tempexpenses'] = test_copy[['RoomService', 'FoodCourt', 'ShoppingMall', 'Spa', 'VRDeck']].sum(axis=1)\n",
    "test_copy.loc[test_copy['tempexpenses'] == 0, 'tempcryo'] = 1\n",
    "test_copy.loc[test_copy.CryoSleep.astype('str') == 'True', 'tempcryo'] = 1\n",
    "test_copy.loc[test_copy.CryoSleep.astype('str') == 'False', 'tempcryo'] = 0\n",
    "test_copy['CryoSleep'] = test_copy['tempcryo']\n",
    "test_copy.drop('tempcryo',axis=1,inplace=True)\n",
    "test_copy['CryoSleep'] = test_copy['CryoSleep'].astype('bool')\n",
    "test_copy.Age = test_copy.Age.fillna(train_copy.Age.median())\n",
    "test_copy['Cabin'] = train_copy.Cabin.fillna(method='backfill')"
   ]
  },
  {
   "cell_type": "code",
   "execution_count": 12,
   "id": "65fa679b",
   "metadata": {},
   "outputs": [
    {
     "data": {
      "text/plain": [
       "0    Earth\n",
       "Name: HomePlanet, dtype: object"
      ]
     },
     "execution_count": 12,
     "metadata": {},
     "output_type": "execute_result"
    }
   ],
   "source": [
    "test_copy.HomePlanet.mode()"
   ]
  },
  {
   "cell_type": "code",
   "execution_count": 13,
   "id": "f28dae7a",
   "metadata": {},
   "outputs": [
    {
     "data": {
      "text/plain": [
       "0    TRAPPIST-1e\n",
       "Name: Destination, dtype: object"
      ]
     },
     "execution_count": 13,
     "metadata": {},
     "output_type": "execute_result"
    }
   ],
   "source": [
    "test_copy.Destination.mode()"
   ]
  },
  {
   "cell_type": "code",
   "execution_count": 14,
   "id": "f7dd003d",
   "metadata": {},
   "outputs": [],
   "source": [
    "test_copy.HomePlanet = test_copy.HomePlanet.fillna('Earth')\n",
    "test_copy.Destination = test_copy.Destination.fillna('TRAPPIST-1e')"
   ]
  },
  {
   "cell_type": "code",
   "execution_count": 15,
   "id": "94aa99a9",
   "metadata": {},
   "outputs": [
    {
     "data": {
      "text/plain": [
       "PassengerId     False\n",
       "HomePlanet      False\n",
       "CryoSleep       False\n",
       "Cabin           False\n",
       "Destination     False\n",
       "Age             False\n",
       "VIP             False\n",
       "RoomService     False\n",
       "FoodCourt       False\n",
       "ShoppingMall    False\n",
       "Spa             False\n",
       "VRDeck          False\n",
       "tempexpenses    False\n",
       "dtype: bool"
      ]
     },
     "execution_count": 15,
     "metadata": {},
     "output_type": "execute_result"
    }
   ],
   "source": [
    "test_copy.VIP = test_copy.VIP.fillna('False')\n",
    "test_copy.VIP = test_copy.VIP.astype('bool')\n",
    "test_copy.isna().any()"
   ]
  },
  {
   "cell_type": "code",
   "execution_count": 16,
   "id": "28141a11",
   "metadata": {},
   "outputs": [],
   "source": [
    "#Engineering the features Deck and Side to deal with the vast variance in Cabin values that causes getdummies issues \n",
    "train_copy['Deck'] = train_copy.Cabin.apply(lambda x: str(x).split('/')).apply(lambda x: x[0])\n",
    "train_copy['Side'] = train_copy.Cabin.apply(lambda x: str(x).split('/')).apply(lambda x: x[2])\n",
    "test_copy['Deck'] = test_copy.Cabin.apply(lambda x: str(x).split('/')).apply(lambda x: x[0])\n",
    "test_copy['Side'] = test_copy.Cabin.apply(lambda x: str(x).split('/')).apply(lambda x: x[2])"
   ]
  },
  {
   "cell_type": "code",
   "execution_count": 17,
   "id": "34dfa761",
   "metadata": {},
   "outputs": [],
   "source": [
    "#Now that we have removed all missing values from both, let us build the model\n",
    "from sklearn.linear_model import LogisticRegression\n",
    "from sklearn.model_selection import train_test_split\n",
    "features = ['HomePlanet', 'CryoSleep', 'Destination', 'Age', 'VIP',\n",
    "            'RoomService', 'FoodCourt', 'ShoppingMall', 'Spa', 'VRDeck', 'Deck', 'Side']\n",
    "X = pd.get_dummies(train_copy[features])\n",
    "y = train_copy['Transported']"
   ]
  },
  {
   "cell_type": "code",
   "execution_count": 18,
   "id": "fde0b57d",
   "metadata": {},
   "outputs": [],
   "source": [
    "X_train,X_test,y_train,y_test = train_test_split(X.values,y.values,random_state=1) "
   ]
  },
  {
   "cell_type": "code",
   "execution_count": 19,
   "id": "9ab8f8e7",
   "metadata": {},
   "outputs": [
    {
     "data": {
      "text/plain": [
       "0.888185896698493"
      ]
     },
     "execution_count": 19,
     "metadata": {},
     "output_type": "execute_result"
    }
   ],
   "source": [
    "#xgboost is great at handling data with lots of missing values, so it will be our pick of choice\n",
    "import xgboost as xgb\n",
    "from xgboost import XGBClassifier\n",
    "xgb = XGBClassifier()\n",
    "xgb.fit(X,y)\n",
    "xgb.score(X,y)"
   ]
  },
  {
   "cell_type": "code",
   "execution_count": 20,
   "id": "ab1d4c2e",
   "metadata": {},
   "outputs": [],
   "source": [
    "y_pred = xgb.predict(pd.get_dummies((test_copy[features])))"
   ]
  },
  {
   "cell_type": "code",
   "execution_count": 21,
   "id": "6f85cb99",
   "metadata": {},
   "outputs": [
    {
     "data": {
      "text/html": [
       "<div>\n",
       "<style scoped>\n",
       "    .dataframe tbody tr th:only-of-type {\n",
       "        vertical-align: middle;\n",
       "    }\n",
       "\n",
       "    .dataframe tbody tr th {\n",
       "        vertical-align: top;\n",
       "    }\n",
       "\n",
       "    .dataframe thead th {\n",
       "        text-align: right;\n",
       "    }\n",
       "</style>\n",
       "<table border=\"1\" class=\"dataframe\">\n",
       "  <thead>\n",
       "    <tr style=\"text-align: right;\">\n",
       "      <th></th>\n",
       "      <th>PassengerId</th>\n",
       "      <th>Transported</th>\n",
       "    </tr>\n",
       "  </thead>\n",
       "  <tbody>\n",
       "    <tr>\n",
       "      <th>0</th>\n",
       "      <td>0013_01</td>\n",
       "      <td>True</td>\n",
       "    </tr>\n",
       "    <tr>\n",
       "      <th>1</th>\n",
       "      <td>0018_01</td>\n",
       "      <td>False</td>\n",
       "    </tr>\n",
       "    <tr>\n",
       "      <th>2</th>\n",
       "      <td>0019_01</td>\n",
       "      <td>True</td>\n",
       "    </tr>\n",
       "    <tr>\n",
       "      <th>3</th>\n",
       "      <td>0021_01</td>\n",
       "      <td>True</td>\n",
       "    </tr>\n",
       "    <tr>\n",
       "      <th>4</th>\n",
       "      <td>0023_01</td>\n",
       "      <td>True</td>\n",
       "    </tr>\n",
       "    <tr>\n",
       "      <th>...</th>\n",
       "      <td>...</td>\n",
       "      <td>...</td>\n",
       "    </tr>\n",
       "    <tr>\n",
       "      <th>4272</th>\n",
       "      <td>9266_02</td>\n",
       "      <td>True</td>\n",
       "    </tr>\n",
       "    <tr>\n",
       "      <th>4273</th>\n",
       "      <td>9269_01</td>\n",
       "      <td>True</td>\n",
       "    </tr>\n",
       "    <tr>\n",
       "      <th>4274</th>\n",
       "      <td>9271_01</td>\n",
       "      <td>True</td>\n",
       "    </tr>\n",
       "    <tr>\n",
       "      <th>4275</th>\n",
       "      <td>9273_01</td>\n",
       "      <td>True</td>\n",
       "    </tr>\n",
       "    <tr>\n",
       "      <th>4276</th>\n",
       "      <td>9277_01</td>\n",
       "      <td>True</td>\n",
       "    </tr>\n",
       "  </tbody>\n",
       "</table>\n",
       "<p>4277 rows × 2 columns</p>\n",
       "</div>"
      ],
      "text/plain": [
       "     PassengerId  Transported\n",
       "0        0013_01         True\n",
       "1        0018_01        False\n",
       "2        0019_01         True\n",
       "3        0021_01         True\n",
       "4        0023_01         True\n",
       "...          ...          ...\n",
       "4272     9266_02         True\n",
       "4273     9269_01         True\n",
       "4274     9271_01         True\n",
       "4275     9273_01         True\n",
       "4276     9277_01         True\n",
       "\n",
       "[4277 rows x 2 columns]"
      ]
     },
     "execution_count": 21,
     "metadata": {},
     "output_type": "execute_result"
    }
   ],
   "source": [
    "#Create the data frame containing our PassengerId and Transported predicted results side by side\n",
    "result = pd.DataFrame({'PassengerId':test_copy.PassengerId, 'Transported': y_pred.astype('bool')})\n",
    "result"
   ]
  },
  {
   "cell_type": "code",
   "execution_count": 22,
   "id": "1f65b3c6",
   "metadata": {},
   "outputs": [],
   "source": [
    "#Save result to csv format\n",
    "result.to_csv('submission.csv',index=False)"
   ]
  }
 ],
 "metadata": {
  "kernelspec": {
   "display_name": "Python 3 (ipykernel)",
   "language": "python",
   "name": "python3"
  },
  "language_info": {
   "codemirror_mode": {
    "name": "ipython",
    "version": 3
   },
   "file_extension": ".py",
   "mimetype": "text/x-python",
   "name": "python",
   "nbconvert_exporter": "python",
   "pygments_lexer": "ipython3",
   "version": "3.9.12"
  }
 },
 "nbformat": 4,
 "nbformat_minor": 5
}
